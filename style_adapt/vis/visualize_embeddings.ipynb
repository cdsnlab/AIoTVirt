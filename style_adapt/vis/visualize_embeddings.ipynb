{
 "cells": [
  {
   "cell_type": "code",
   "execution_count": null,
   "metadata": {},
   "outputs": [],
   "source": [
    "import sys\n",
    "sys.path.append('..')\n",
    "\n",
    "from .tsne import visualize_tsne\n",
    "import torch.nn as nn\n",
    "import torch.nn.functional as F\n",
    "import torch\n",
    "import argparse\n",
    "from torch.utils import data\n",
    "import numpy as np\n",
    "import random\n",
    "from tqdm import tqdm\n",
    "from config import get_config"
   ]
  },
  {
   "cell_type": "code",
   "execution_count": null,
   "metadata": {},
   "outputs": [],
   "source": [
    "def load_embedding(path):\n",
    "    emb = torch.load(path)['embedding']\n",
    "    emb = list(map(lambda x: x.cpu()[0], emb))\n",
    "    return emb  "
   ]
  },
  {
   "cell_type": "code",
   "execution_count": null,
   "metadata": {},
   "outputs": [],
   "source": [
    "def get_embedding(src_embeddings):\n",
    "    src_embeddings = torch.stack(src_embeddings).to('cpu')\n",
    "    img_emb_src = src_embeddings.mean(dim=0, keepdim=True)\n",
    "    img_emb_src /= img_emb_src.norm(dim=-1, keepdim=True)\n",
    "    img_emb_src = img_emb_src.repeat(1,1).type(torch.float32)  # (B,1024)\n",
    "    print(img_emb_src.shape)\n",
    "    return img_emb_src.cpu()"
   ]
  },
  {
   "cell_type": "code",
   "execution_count": null,
   "metadata": {},
   "outputs": [],
   "source": [
    "def norm_embeddings(src_embeddings):\n",
    "    src_embeddings = src_embeddings.clone()\n",
    "    for i in range(len(src_embeddings)):\n",
    "        src_embeddings[i] /= src_embeddings[i].norm(dim=-1, keepdim=True)\n",
    "    return torch.stack(src_embeddings)"
   ]
  },
  {
   "cell_type": "code",
   "execution_count": null,
   "metadata": {},
   "outputs": [],
   "source": [
    "def normalize(embeddings): #list of list of embds\n",
    "    results = []\n",
    "    for lst in embeddings:\n",
    "        res = []\n",
    "        for emb in lst:\n",
    "            emb = emb.clone()\n",
    "            emb /= emb.norm(dim=-1, keepdim=True)\n",
    "            res.append(emb)\n",
    "        results.append(res)\n",
    "    return results"
   ]
  },
  {
   "cell_type": "code",
   "execution_count": null,
   "metadata": {},
   "outputs": [],
   "source": [
    "device = torch.device('cuda:2')\n",
    "CORRUPTIONS = [\"gaussian_noise\", \"shot_noise\", \"impulse_noise\", \"defocus_blur\", \"glass_blur\", \"motion_blur\", \"zoom_blur\", \"snow\", \"frost\", \"fog\", \"brightness\", \"contrast\", \"elastic_transform\", \"pixelate\", \"jpeg_compression\"]"
   ]
  },
  {
   "cell_type": "code",
   "execution_count": null,
   "metadata": {},
   "outputs": [],
   "source": [
    "src_embeddings = load_embedding('../data/embeddings/embedding_cifar10_wideresnet28_640avgn.pth')\n",
    "target_embeddings = load_embedding('../data/embeddings/embedding_cifar10c_wideresnet28.pth')\n",
    "\n",
    "print(f'{len(src_embeddings)=}, {len(target_embeddings)=}')\n",
    "print(f'{src_embeddings[0].shape=}, {target_embeddings[0].shape=}')"
   ]
  }
 ],
 "metadata": {
  "kernelspec": {
   "display_name": "cvpr2024",
   "language": "python",
   "name": "python3"
  },
  "language_info": {
   "codemirror_mode": {
    "name": "ipython",
    "version": 3
   },
   "file_extension": ".py",
   "mimetype": "text/x-python",
   "name": "python",
   "nbconvert_exporter": "python",
   "pygments_lexer": "ipython3",
   "version": "3.10.9"
  },
  "orig_nbformat": 4
 },
 "nbformat": 4,
 "nbformat_minor": 2
}

{
 "cells": [
  {
   "cell_type": "code",
   "execution_count": null,
   "metadata": {},
   "outputs": [],
   "source": [
    "import sys\n",
    "sys.path.append('..')\n",
    "\n",
    "from .tsne import visualize_tsne\n",
    "import torch.nn as nn\n",
    "import torch.nn.functional as F\n",
    "import torch\n",
    "import argparse\n",
    "from torch.utils import data\n",
    "import numpy as np\n",
    "import random\n",
    "from tqdm import tqdm\n",
    "from config import get_config"
   ]
  },
  {
   "cell_type": "code",
   "execution_count": null,
   "metadata": {},
   "outputs": [],
   "source": [
    "def load_embedding(path):\n",
    "    emb = torch.load(path)['embedding']\n",
    "    emb = list(map(lambda x: x.cpu()[0], emb))\n",
    "    return emb  "
   ]
  },
  {
   "cell_type": "code",
   "execution_count": null,
   "metadata": {},
   "outputs": [],
   "source": [
    "def get_embedding(src_embeddings):\n",
    "    src_embeddings = torch.stack(src_embeddings).to('cpu')\n",
    "    img_emb_src = src_embeddings.mean(dim=0, keepdim=True)\n",
    "    img_emb_src /= img_emb_src.norm(dim=-1, keepdim=True)\n",
    "    img_emb_src = img_emb_src.repeat(1,1).type(torch.float32)  # (B,1024)\n",
    "    print(img_emb_src.shape)\n",
    "    return img_emb_src.cpu()"
   ]
  }
 ],
 "metadata": {
  "kernelspec": {
   "display_name": "cvpr2024",
   "language": "python",
   "name": "python3"
  },
  "language_info": {
   "codemirror_mode": {
    "name": "ipython",
    "version": 3
   },
   "file_extension": ".py",
   "mimetype": "text/x-python",
   "name": "python",
   "nbconvert_exporter": "python",
   "pygments_lexer": "ipython3",
   "version": "3.10.9"
  },
  "orig_nbformat": 4
 },
 "nbformat": 4,
 "nbformat_minor": 2
}

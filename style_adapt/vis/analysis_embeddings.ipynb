{
 "cells": [
  {
   "cell_type": "code",
   "execution_count": null,
   "metadata": {},
   "outputs": [],
   "source": [
    "import sys\n",
    "sys.path.append('..')\n",
    "\n",
    "from .tsne import visualize_tsne, visualize_tsne_raw\n",
    "import torch\n",
    "import numpy as np\n",
    "\n",
    "from torchvision.datasets import CIFAR10\n",
    "import torchvision.transforms as T\n",
    "from easydict import EasyDict"
   ]
  },
  {
   "cell_type": "code",
   "execution_count": null,
   "metadata": {},
   "outputs": [],
   "source": [
    "def load_embedding(path, label=False):\n",
    "    data = torch.load(path)\n",
    "    emb = data['embedding']\n",
    "    if label:\n",
    "        return emb, data['labels']\n",
    "    return emb  "
   ]
  },
  {
   "cell_type": "code",
   "execution_count": null,
   "metadata": {},
   "outputs": [],
   "source": [
    "def get_embedding(src_embeddings):\n",
    "    src_embeddings = torch.stack(src_embeddings).to('cpu')\n",
    "    img_emb_src = src_embeddings.mean(dim=0, keepdim=True)\n",
    "    img_emb_src /= img_emb_src.norm(dim=-1, keepdim=True)\n",
    "    img_emb_src = img_emb_src.repeat(1,1).type(torch.float32)  # (B,1024)\n",
    "    print(img_emb_src.shape)\n",
    "    return img_emb_src.cpu()"
   ]
  },
  {
   "cell_type": "code",
   "execution_count": null,
   "metadata": {},
   "outputs": [],
   "source": [
    "def norm_embeddings(src_embeddings):\n",
    "    src_embeddings = src_embeddings.clone()\n",
    "    for i in range(len(src_embeddings)):\n",
    "        src_embeddings[i] /= src_embeddings[i].norm(dim=-1, keepdim=True)\n",
    "    return torch.stack(src_embeddings)"
   ]
  },
  {
   "cell_type": "code",
   "execution_count": null,
   "metadata": {},
   "outputs": [],
   "source": [
    "def normalize(embeddings): #list of list of embds\n",
    "    results = []\n",
    "    for lst in embeddings:\n",
    "        res = []\n",
    "        for emb in lst:\n",
    "            emb = emb.clone()\n",
    "            emb /= emb.norm(dim=-1, keepdim=True)\n",
    "            res.append(emb)\n",
    "        results.append(res)\n",
    "    return results"
   ]
  },
  {
   "cell_type": "code",
   "execution_count": null,
   "metadata": {},
   "outputs": [],
   "source": [
    "device = torch.device('cuda:2')\n",
    "CORRUPTIONS = [\"gaussian_noise\", \"shot_noise\", \"impulse_noise\", \"defocus_blur\", \"glass_blur\", \"motion_blur\", \"zoom_blur\", \"snow\", \"frost\", \"fog\", \"brightness\", \"contrast\", \"elastic_transform\", \"pixelate\", \"jpeg_compression\"]"
   ]
  },
  {
   "cell_type": "code",
   "execution_count": null,
   "metadata": {},
   "outputs": [],
   "source": [
    "opts = EasyDict({\n",
    "    'model': 'wideresnet28',\n",
    "    'pretrained': 'data/cifar10/Standard.pt',\n",
    "    'datasets': {\n",
    "        'CIFAR10': {\n",
    "            'path': 'datasets'\n",
    "        },\n",
    "        'CIFAR10C': {\n",
    "            'path': 'corruptions'\n",
    "        }\n",
    "    }\n",
    "})\n",
    "\n",
    "transform = T.Compose([\n",
    "    T.ToTensor()\n",
    "])\n",
    "\n",
    "dataset = CIFAR10(opts.datasets['CIFAR10'].path, transform=transform)"
   ]
  },
  {
   "cell_type": "code",
   "execution_count": null,
   "metadata": {},
   "outputs": [],
   "source": [
    "src_embeddings = load_embedding('../data/embeddings/embedding_cifar10_wideresnet28_nonorm.pth')\n",
    "idxs = np.random.choice(len(src_embeddings), size=10000, replace=False)\n",
    "print(f'{len(src_embeddings)=}, {src_embeddings[0].shape=}')\n",
    "\n",
    "features = np.stack(src_embeddings)\n",
    "labels = np.array([t[1] for t in dataset]) #y_test.numpy()\n",
    "print(features.shape, labels.shape, np.unique(labels))\n",
    "\n",
    "features = features[idxs].squeeze()\n",
    "labels = labels[idxs].squeeze()\n",
    "print(features.shape, labels.shape, np.unique(labels))"
   ]
  },
  {
   "cell_type": "code",
   "execution_count": null,
   "metadata": {},
   "outputs": [],
   "source": [
    "corruption = \"fog\"\n",
    "severity = 5"
   ]
  },
  {
   "cell_type": "code",
   "execution_count": null,
   "metadata": {},
   "outputs": [],
   "source": [
    "target_embeddings, target_labels = load_embedding(f'./data/embeddings/corruptions/embedding_cifar10c_wideresnet28_{corruption}{severity}.pth', label=True)\n",
    "print(f'{len(target_embeddings)=}, {target_embeddings[0].shape=}')\n",
    "\n",
    "ftt = np.stack(target_embeddings)\n",
    "lbt = np.array(target_labels)\n",
    "print(ftt.shape, lbt.shape, np.unique(lbt))\n",
    "\n",
    "idxt = np.random.choice(len(target_embeddings), size=5000, replace=False)\n",
    "ftt = ftt[idxt]\n",
    "lbt = lbt[idxt]"
   ]
  },
  {
   "cell_type": "code",
   "execution_count": null,
   "metadata": {},
   "outputs": [],
   "source": [
    "visualize_tsne_raw(features = np.concatenate((features, ftt)), \n",
    "                labels = np.concatenate((labels, lbt+10)),\n",
    "                label_names = [f'class{i}' for i in range(10)] + [f'class{i}-C' for i in range(10)],\n",
    "                figsize=(15,10), dimension=2, perplexity=30)"
   ]
  }
 ],
 "metadata": {
  "kernelspec": {
   "display_name": "cvpr2024",
   "language": "python",
   "name": "python3"
  },
  "language_info": {
   "codemirror_mode": {
    "name": "ipython",
    "version": 3
   },
   "file_extension": ".py",
   "mimetype": "text/x-python",
   "name": "python",
   "nbconvert_exporter": "python",
   "pygments_lexer": "ipython3",
   "version": "3.10.9"
  },
  "orig_nbformat": 4
 },
 "nbformat": 4,
 "nbformat_minor": 2
}
